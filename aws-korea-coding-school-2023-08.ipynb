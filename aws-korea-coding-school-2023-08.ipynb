{
 "cells": [
  {
   "cell_type": "markdown",
   "id": "b5fde49f",
   "metadata": {},
   "source": [
    "# AWS 2023 Coding School Day 8월 미션!"
   ]
  },
  {
   "cell_type": "markdown",
   "id": "9caa9cad",
   "metadata": {},
   "source": [
    "#### 기본 설정 부분"
   ]
  },
  {
   "cell_type": "code",
   "execution_count": null,
   "id": "617e1cb3",
   "metadata": {
    "pycharm": {
     "is_executing": true
    }
   },
   "outputs": [],
   "source": [
    "# 기본설정 \n",
    "import os\n",
    "os.environ['TRANSFORMERS_CACHE'] = \"/home/ec2-user/SageMaker/.cache\"\n",
    "os.environ['HF_DATASETS_CACHE'] = \"/home/ec2-user/SageMaker/.cache\"\n",
    "os.environ['HF_HOME'] = \"/home/ec2-user/SageMaker/.cache\""
   ]
  },
  {
   "cell_type": "code",
   "execution_count": 2,
   "id": "0ccfca41",
   "metadata": {},
   "outputs": [],
   "source": [
    "# 기본설정 \n",
    "!pip install -qq AIsketcher git+https://github.com/huggingface/accelerate.git"
   ]
  },
  {
   "cell_type": "code",
   "execution_count": 8,
   "id": "15358699",
   "metadata": {},
   "outputs": [
    {
     "data": {
      "application/json": {
       "ascii": false,
       "bar_format": null,
       "colour": null,
       "elapsed": 0.009108781814575195,
       "initial": 0,
       "n": 0,
       "ncols": null,
       "nrows": null,
       "postfix": null,
       "prefix": "Fetching 15 files",
       "rate": null,
       "total": 15,
       "unit": "it",
       "unit_divisor": 1000,
       "unit_scale": false
      },
      "application/vnd.jupyter.widget-view+json": {
       "model_id": "a96ae8ef73934b8491cb1d12d496025f",
       "version_major": 2,
       "version_minor": 0
      },
      "text/plain": [
       "Fetching 15 files:   0%|          | 0/15 [00:00<?, ?it/s]"
      ]
     },
     "metadata": {},
     "output_type": "display_data"
    },
    {
     "name": "stderr",
     "output_type": "stream",
     "text": [
      "The config attributes {'class_embeddings_concat': False, 'cross_attention_norm': None, 'encoder_hid_dim': None, 'mid_block_only_cross_attention': None, 'resnet_out_scale_factor': 1.0, 'resnet_skip_time_act': False, 'time_embedding_act_fn': None} were passed to UNet2DConditionModel, but are not expected and will be ignored. Please verify your config.json configuration file.\n"
     ]
    }
   ],
   "source": [
    "# 기본설정 \n",
    "import os\n",
    "from diffusers import StableDiffusionControlNetPipeline, ControlNetModel, AutoencoderKL\n",
    "from diffusers.utils import load_image\n",
    "from diffusers import DDIMScheduler, DPMSolverMultistepScheduler, HeunDiscreteScheduler, DDPMScheduler, EulerDiscreteScheduler, KDPM2DiscreteScheduler, EulerAncestralDiscreteScheduler, DEISMultistepScheduler, KDPM2AncestralDiscreteScheduler, UniPCMultistepScheduler, LMSDiscreteScheduler, PNDMScheduler, DPMSolverSinglestepScheduler\n",
    "import cv2\n",
    "from PIL import Image\n",
    "import numpy as np\n",
    "from diffusers import DDPMScheduler\n",
    "import torch\n",
    "import random, sys\n",
    "import boto3\n",
    "import AIsketcher\n",
    "\n",
    "trans_info = {\n",
    "            'region_name' : 'us-east-1', #user region            \n",
    "            'SourceLanguageCode' : 'ko',\n",
    "            'TargetLanguageCode' : 'en',\n",
    "            'iam_access' : True\n",
    "        }\n",
    "\n",
    "controlnet_model = \"lllyasviel/sd-controlnet-canny\"\n",
    "sd_model = \"Lykon/DreamShaper\"\n",
    "\n",
    "controlnet = ControlNetModel.from_pretrained(\n",
    "    controlnet_model,\n",
    "    torch_dtype=torch.float16\n",
    ")\n",
    "\n",
    "pipe = StableDiffusionControlNetPipeline.from_pretrained(\n",
    "    sd_model,\n",
    "    controlnet=controlnet,\n",
    "    torch_dtype=torch.float16\n",
    ")\n",
    "\n",
    "pipe.scheduler = PNDMScheduler.from_config(pipe.scheduler.config)\n",
    "pipe.enable_model_cpu_offload()\n"
   ]
  },
  {
   "cell_type": "markdown",
   "id": "3f2c8d8e",
   "metadata": {},
   "source": [
    "--------------------------------------------------------------------------------------------------\n",
    "# 미션 1번\n",
    "\n",
    "## 1. 브라우저에서 원하는 이미지를 검색 후 다운로드합니다.\n",
    "## 2. 여기에 업로드하고, 직접 AI로 그림을 그려보세요.\n",
    "## 3. 사진과 사용한 프롬프트로 각자 짧은 소개를 합니다.\n",
    "## 4. 출력한 사진을 Google Sheet의 이름텝에 직접 업로드해주세요.\n",
    "\n",
    "#####  파일 업로드와 코드는 aws-korea-coding-school-2023.ipynb 위 예제를 참조합니다.\n",
    "\n",
    "##### - num_steps: AI가 그림을 더 많이 그리는 정도에요. [30 ~ 250]\n",
    "##### - guidance_scale : AI가 스스로 창의적인 생각을 하며 그리는 정도를 조절할수 있어요. [0 ~ 30]\n",
    "##### - seed : AI가 그림을 그리는 시작점이에요. 숫자를 변경하면 화풍이 크게 변한답니다.\n",
    "\n"
   ]
  },
  {
   "cell_type": "code",
   "execution_count": null,
   "id": "87c83078",
   "metadata": {
    "pycharm": {
     "is_executing": true
    }
   },
   "outputs": [],
   "source": [
    "\n",
    "\n",
    "file_name = '파일이름을_입력하세요.'\n",
    "input_text = input(\"원하는 그림체를 한국어로 입력하세요: \")\n",
    "\n",
    "num_steps = 40\n",
    "guidance_scale = 7\n",
    "seed = #6764547109648557242  6854547109648557242 #6764547109648557242 #6634547109688557242\n",
    "low = 140\n",
    "high = 160\n",
    "\n",
    "image, canny_image, out_image =AIsketcher.img2img(file_name,  input_text,  num_steps, guidance_scale, seed, low, high, pipe, trans_info)\n",
    "out_image.save(\"result_\"+file_name)\n",
    "Image.fromarray(np.concatenate([image.resize(out_image.size), out_image], axis=1))"
   ]
  },
  {
   "cell_type": "markdown",
   "id": "9215942e",
   "metadata": {},
   "source": [
    "# 미션 2번\n",
    "\n",
    "## 1. 수성싸인펜으로 직접 그림을 그립니다.\n",
    "## 2. SageMaker에 사진을 업로드합니다.\n",
    "## 3. 위 코드를 참조해서 직접 사진을 로드 및 실행해봅니다.\n",
    "## 4. 출력한 사진을 Google Sheet의 이름텝에 직접 업로드해주세요.\n"
   ]
  },
  {
   "cell_type": "code",
   "execution_count": null,
   "id": "859f7d2f",
   "metadata": {},
   "outputs": [],
   "source": [
    "file_name = 'present_image2.jpeg'\n",
    "input_text = input(\"원하는 그림체를 한국어로 입력하세요: \")\n",
    "\n",
    "num_steps = 25\n",
    "guidance_scale = 17\n",
    "seed =7574547109648557242 # #6854547109648557242 #6764547109648557242 #6634547109688557242\n",
    "low = 140\n",
    "high = 250\n",
    "\n",
    "image, canny_image, out_image = AIsketcher.img2img(file_name,  input_text,  num_steps, guidance_scale, seed, low, high, pipe, trans_info)\n",
    "out_image.save(\"result_\"+file_name)\n",
    "Image.fromarray(np.concatenate([image.resize(out_image.size), out_image], axis=1))"
   ]
  },
  {
   "cell_type": "code",
   "execution_count": null,
   "id": "1b7d4cde",
   "metadata": {},
   "outputs": [],
   "source": []
  },
  {
   "cell_type": "markdown",
   "id": "c602df6b",
   "metadata": {},
   "source": [
    "--------------------------------------------------------------------------------------------------\n",
    "# 미션 3번\n",
    "\n",
    "## 1. 사진을 직접 찍어봅니다. 또는 사진첩에 있는 추억의 사진을 선택합니다.\n",
    "## 2. SageMaker에 사진을 업로드합니다.\n",
    "## 3. 위 코드를 참조해서 직접 AI 사진을 실행해봅니다.\n",
    "## 4. 출력한 사진을 Google Sheet의 이름텝에 직접 업로드해주세요.\n",
    "\n",
    "\n"
   ]
  },
  {
   "cell_type": "code",
   "execution_count": null,
   "id": "17d00fee",
   "metadata": {},
   "outputs": [],
   "source": [
    "file_name = 'present_image4.jpeg'\n",
    "input_text = input(\"원하는 그림체를 한국어로 입력하세요: \")\n",
    "\n",
    "num_steps = 25\n",
    "guidance_scale = 17\n",
    "seed =7574547109648557242  #6854547109648557242 #6764547109648557242 #6634547109688557242\n",
    "low = 140\n",
    "high = 250\n",
    "\n",
    "image, canny_image, out_image = AIsketcher.img2img(file_name,  input_text,  num_steps, guidance_scale, seed, low, high, pipe, trans_info)\n",
    "out_image.save(\"result_\"+file_name)\n",
    "Image.fromarray(np.concatenate([image.resize(out_image.size), out_image], axis=1))"
   ]
  },
  {
   "cell_type": "markdown",
   "id": "4b040a30",
   "metadata": {},
   "source": [
    "# 미션 4번\n",
    "\n",
    "## 상황:\n",
    "고객이 회사의 볼펜에 대한 광고 이미지를 의뢰했습니다. 이 볼펜은 내구성과 사용감이 뛰어나지만, 디자인 측면에서는 많이 부족하다는 고객의 피드백이 있습니다. 미팅 중, 미적 감각이 부족한 볼펜 회사의 엔지니어 고객은 몇몇 추상적인,'멋진', '새로운' 같은 단어들만을 남기고 회의를 끝냈습니다.\n",
    "\n",
    "## 미션:\n",
    "고객이 언급한 추상적인 단어들을 기반으로 신규 볼펜 이미지를 디자인해야 합니다. 이 디자인은 볼펜의 내구성과 사용감의 우수함을 강조하면서도, 새로운 미적 감각을 더해야 합니다.\n",
    "\n",
    "## 조건 :\n",
    "디자인은 \"멋진\", \"새로운\" 이라는 키워드를 중심으로 해야 합니다.\n",
    "볼펜의 내구성과 사용감을 시각적으로 잘 표현해야 합니다.\n",
    "고객이 언급한 추상적인 단어들을 최대한 활용하여 디자인에 창의적인 요소를 더해야 합니다.\n",
    "\n",
    "## 목표:\n",
    "새로운 광고 이미지를 통해 볼펜의 디자인 가치를 높이고, 고객의 눈길을 사로잡는 볼펜을 만들어봅시다."
   ]
  },
  {
   "cell_type": "code",
   "execution_count": null,
   "id": "6cce6d85",
   "metadata": {},
   "outputs": [],
   "source": [
    "file_name = '볼펜 초기 파일이름을_입력하세요.'\n",
    "input_text = input(\"원하는 그림체를 한국어로 입력하세요: \")\n",
    "\n",
    "num_steps = 40\n",
    "guidance_scale = 7\n",
    "seed = #6764547109648557242  6854547109648557242 #6764547109648557242 #6634547109688557242\n",
    "low = 140\n",
    "high = 160\n",
    "\n",
    "image, canny_image, out_image =AIsketcher.img2img(file_name,  input_text,  num_steps, guidance_scale, seed, low, high, pipe, trans_info)\n",
    "out_image.save(\"result_\"+file_name)\n",
    "Image.fromarray(np.concatenate([image.resize(out_image.size), out_image], axis=1))"
   ]
  },
  {
   "cell_type": "markdown",
   "id": "12287fce",
   "metadata": {},
   "source": []
  },
  {
   "cell_type": "code",
   "execution_count": null,
   "id": "7227b171",
   "metadata": {},
   "outputs": [],
   "source": []
  },
  {
   "cell_type": "markdown",
   "id": "e641abba",
   "metadata": {},
   "source": []
  },
  {
   "cell_type": "code",
   "execution_count": null,
   "id": "dcb289bb",
   "metadata": {},
   "outputs": [],
   "source": []
  },
  {
   "cell_type": "markdown",
   "id": "a0a98788",
   "metadata": {},
   "source": []
  },
  {
   "cell_type": "code",
   "execution_count": null,
   "id": "d057ad61",
   "metadata": {},
   "outputs": [],
   "source": []
  },
  {
   "cell_type": "markdown",
   "id": "2e1b79e5",
   "metadata": {},
   "source": []
  },
  {
   "cell_type": "code",
   "execution_count": null,
   "id": "387dd48a",
   "metadata": {},
   "outputs": [],
   "source": []
  }
 ],
 "metadata": {
  "kernelspec": {
   "display_name": "conda_pytorch_p39",
   "language": "python",
   "name": "conda_pytorch_p39"
  },
  "language_info": {
   "codemirror_mode": {
    "name": "ipython",
    "version": 3
   },
   "file_extension": ".py",
   "mimetype": "text/x-python",
   "name": "python",
   "nbconvert_exporter": "python",
   "pygments_lexer": "ipython3",
   "version": "3.9.15"
  }
 },
 "nbformat": 4,
 "nbformat_minor": 5
}
